{
 "cells": [
  {
   "cell_type": "code",
   "execution_count": 111,
   "metadata": {},
   "outputs": [],
   "source": [
    "import pandas as pd\n",
    "import numpy as np\n",
    "import matplotlib.pyplot as plt\n",
    "\n",
    "#word processors\n",
    "from sklearn.feature_extraction.text import TfidfVectorizer\n",
    "\n",
    "from nltk.corpus import stopwords\n",
    "from nltk.sentiment.vader import SentimentIntensityAnalyzer\n",
    "from nltk.tokenize import word_tokenize\n",
    "\n",
    "\n",
    "\n",
    "from scipy.sparse import hstack\n"
   ]
  },
  {
   "cell_type": "code",
   "execution_count": 112,
   "metadata": {},
   "outputs": [
    {
     "data": {
      "text/html": [
       "<div>\n",
       "<style scoped>\n",
       "    .dataframe tbody tr th:only-of-type {\n",
       "        vertical-align: middle;\n",
       "    }\n",
       "\n",
       "    .dataframe tbody tr th {\n",
       "        vertical-align: top;\n",
       "    }\n",
       "\n",
       "    .dataframe thead th {\n",
       "        text-align: right;\n",
       "    }\n",
       "</style>\n",
       "<table border=\"1\" class=\"dataframe\">\n",
       "  <thead>\n",
       "    <tr style=\"text-align: right;\">\n",
       "      <th></th>\n",
       "      <th>sentiment</th>\n",
       "      <th>message</th>\n",
       "      <th>tweetid</th>\n",
       "    </tr>\n",
       "  </thead>\n",
       "  <tbody>\n",
       "    <tr>\n",
       "      <th>0</th>\n",
       "      <td>-1</td>\n",
       "      <td>RT @darreljorstad: Funny as hell! Canada deman...</td>\n",
       "      <td>897853122080407553</td>\n",
       "    </tr>\n",
       "    <tr>\n",
       "      <th>1</th>\n",
       "      <td>-1</td>\n",
       "      <td>All the biggest lies about climate change and ...</td>\n",
       "      <td>925046776553529344</td>\n",
       "    </tr>\n",
       "    <tr>\n",
       "      <th>2</th>\n",
       "      <td>-1</td>\n",
       "      <td>The Coming Revelation Of The $q$Global Warming...</td>\n",
       "      <td>696354236850786305</td>\n",
       "    </tr>\n",
       "    <tr>\n",
       "      <th>3</th>\n",
       "      <td>-1</td>\n",
       "      <td>RT @DineshDSouza: Let's see if the world ends ...</td>\n",
       "      <td>846806509732483072</td>\n",
       "    </tr>\n",
       "    <tr>\n",
       "      <th>4</th>\n",
       "      <td>-1</td>\n",
       "      <td>RT @SteveSGoddard: Obama has no control over t...</td>\n",
       "      <td>628085266293653504</td>\n",
       "    </tr>\n",
       "  </tbody>\n",
       "</table>\n",
       "</div>"
      ],
      "text/plain": [
       "   sentiment                                            message  \\\n",
       "0         -1  RT @darreljorstad: Funny as hell! Canada deman...   \n",
       "1         -1  All the biggest lies about climate change and ...   \n",
       "2         -1  The Coming Revelation Of The $q$Global Warming...   \n",
       "3         -1  RT @DineshDSouza: Let's see if the world ends ...   \n",
       "4         -1  RT @SteveSGoddard: Obama has no control over t...   \n",
       "\n",
       "              tweetid  \n",
       "0  897853122080407553  \n",
       "1  925046776553529344  \n",
       "2  696354236850786305  \n",
       "3  846806509732483072  \n",
       "4  628085266293653504  "
      ]
     },
     "execution_count": 112,
     "metadata": {},
     "output_type": "execute_result"
    }
   ],
   "source": [
    "train = pd.read_csv(\"resources/data/train.csv\")\n",
    "train.head()"
   ]
  },
  {
   "cell_type": "code",
   "execution_count": 124,
   "metadata": {},
   "outputs": [
    {
     "data": {
      "text/html": [
       "<div>\n",
       "<style scoped>\n",
       "    .dataframe tbody tr th:only-of-type {\n",
       "        vertical-align: middle;\n",
       "    }\n",
       "\n",
       "    .dataframe tbody tr th {\n",
       "        vertical-align: top;\n",
       "    }\n",
       "\n",
       "    .dataframe thead th {\n",
       "        text-align: right;\n",
       "    }\n",
       "</style>\n",
       "<table border=\"1\" class=\"dataframe\">\n",
       "  <thead>\n",
       "    <tr style=\"text-align: right;\">\n",
       "      <th></th>\n",
       "      <th>sentiment</th>\n",
       "      <th>message</th>\n",
       "      <th>tweetid</th>\n",
       "      <th>sentiment_compound</th>\n",
       "      <th>avg_word_len</th>\n",
       "      <th>length</th>\n",
       "    </tr>\n",
       "  </thead>\n",
       "  <tbody>\n",
       "    <tr>\n",
       "      <th>0</th>\n",
       "      <td>-1</td>\n",
       "      <td>@darreljorstad: funny  hell! canada demands '...</td>\n",
       "      <td>897853122080407553</td>\n",
       "      <td>-0.4574</td>\n",
       "      <td>5.000000</td>\n",
       "      <td>120</td>\n",
       "    </tr>\n",
       "    <tr>\n",
       "      <th>1</th>\n",
       "      <td>-1</td>\n",
       "      <td>biggest lies  climate change  global warming...</td>\n",
       "      <td>925046776553529344</td>\n",
       "      <td>-0.2960</td>\n",
       "      <td>7.000000</td>\n",
       "      <td>106</td>\n",
       "    </tr>\n",
       "    <tr>\n",
       "      <th>2</th>\n",
       "      <td>-1</td>\n",
       "      <td>coming revelation   $q$global warming$q$ #fra...</td>\n",
       "      <td>696354236850786305</td>\n",
       "      <td>0.0000</td>\n",
       "      <td>4.071429</td>\n",
       "      <td>131</td>\n",
       "    </tr>\n",
       "    <tr>\n",
       "      <th>3</th>\n",
       "      <td>-1</td>\n",
       "      <td>@dineshdsouza: let's see   world ends  @reald...</td>\n",
       "      <td>846806509732483072</td>\n",
       "      <td>0.0000</td>\n",
       "      <td>4.120000</td>\n",
       "      <td>123</td>\n",
       "    </tr>\n",
       "    <tr>\n",
       "      <th>4</th>\n",
       "      <td>-1</td>\n",
       "      <td>@stevesgoddard: obama   control   climate.   ...</td>\n",
       "      <td>628085266293653504</td>\n",
       "      <td>-0.6249</td>\n",
       "      <td>5.437500</td>\n",
       "      <td>105</td>\n",
       "    </tr>\n",
       "  </tbody>\n",
       "</table>\n",
       "</div>"
      ],
      "text/plain": [
       "   sentiment                                            message  \\\n",
       "0         -1   @darreljorstad: funny  hell! canada demands '...   \n",
       "1         -1    biggest lies  climate change  global warming...   \n",
       "2         -1   coming revelation   $q$global warming$q$ #fra...   \n",
       "3         -1   @dineshdsouza: let's see   world ends  @reald...   \n",
       "4         -1   @stevesgoddard: obama   control   climate.   ...   \n",
       "\n",
       "              tweetid  sentiment_compound  avg_word_len  length  \n",
       "0  897853122080407553             -0.4574      5.000000     120  \n",
       "1  925046776553529344             -0.2960      7.000000     106  \n",
       "2  696354236850786305              0.0000      4.071429     131  \n",
       "3  846806509732483072              0.0000      4.120000     123  \n",
       "4  628085266293653504             -0.6249      5.437500     105  "
      ]
     },
     "execution_count": 124,
     "metadata": {},
     "output_type": "execute_result"
    }
   ],
   "source": [
    "rt = r'rt'\n",
    "train['message'] = train['message'].str.lower()\n",
    "train['message'] = train['message'].replace(to_replace = rt, value = '', regex = True)\n",
    "#train['message'] = train['message'].str.replace(r'@', 'twithandle ')\n",
    "\n",
    "# Remove stop words\n",
    "def remove_stop_words(word):\n",
    "    if word not in stop:\n",
    "        return word\n",
    "    else:\n",
    "        return ''\n",
    "    \n",
    "sid = SentimentIntensityAnalyzer()\n",
    "def sentiment_score(sentence):\n",
    "    \n",
    "    return sid.polarity_scores(sentence)['compound']\n",
    "\n",
    "def avg_word_len(sentence):\n",
    "    \"\"\"takes in a sentence, tokenizes it and computes\n",
    "        the average word length of the sentence\n",
    "        \n",
    "        parameters:\n",
    "        -----------\n",
    "        sentence: str\n",
    "    \n",
    "        returns:\n",
    "        --------\n",
    "        avg word length: float        \n",
    "    \"\"\"  \n",
    "    word_list = word_tokenize(sentence)\n",
    "    length = 0\n",
    "    for word in word_list:\n",
    "        length += len(word)\n",
    "        \n",
    "    return length/len(word_list)\n",
    "    \n",
    "stop = stopwords.words('english')\n",
    "\n",
    "train['message'] = [' '.join([remove_stop_words(word) for word in text.split(' ')])for text in train['message']]\n",
    "train['sentiment_compound'] = train['message'].apply( sentiment_score)\n",
    "train['avg_word_len'] = train['message'].apply(avg_word_len)\n",
    "train['length'] = train['message'].apply(len)\n",
    "\n",
    "train.head()"
   ]
  },
  {
   "cell_type": "code",
   "execution_count": 114,
   "metadata": {},
   "outputs": [],
   "source": [
    "vectorizer = TfidfVectorizer()"
   ]
  },
  {
   "cell_type": "code",
   "execution_count": 126,
   "metadata": {},
   "outputs": [],
   "source": [
    "from sklearn.model_selection import train_test_split\n",
    "\n",
    "x_train,x_test,y_train,y_test = train_test_split(train.drop('sentiment',axis=1),train['sentiment'], random_state=0)"
   ]
  },
  {
   "cell_type": "code",
   "execution_count": 132,
   "metadata": {},
   "outputs": [],
   "source": [
    "x_train_text = vectorizer.fit_transform(x_train['message'])\n",
    "stacked_X_train = hstack((x_train_text,\n",
    "                         np.array(x_train['sentiment_compound'].values.reshape(-1,1)),\n",
    "                         np.array(x_train['avg_word_len'].values.reshape(-1,1)),\n",
    "                         np.array(x_train['length'].values.reshape(-1,1)),\n",
    "                         np.array(x_train['tweetid'].values.reshape(-1,1)),\n",
    "                         ))"
   ]
  },
  {
   "cell_type": "code",
   "execution_count": 133,
   "metadata": {},
   "outputs": [],
   "source": [
    "from sklearn.ensemble import RandomForestClassifier\n",
    "classifier = RandomForestClassifier(criterion='entropy',n_estimators = 250)"
   ]
  },
  {
   "cell_type": "code",
   "execution_count": 134,
   "metadata": {},
   "outputs": [
    {
     "data": {
      "text/plain": [
       "RandomForestClassifier(bootstrap=True, ccp_alpha=0.0, class_weight=None,\n",
       "                       criterion='entropy', max_depth=None, max_features='auto',\n",
       "                       max_leaf_nodes=None, max_samples=None,\n",
       "                       min_impurity_decrease=0.0, min_impurity_split=None,\n",
       "                       min_samples_leaf=1, min_samples_split=2,\n",
       "                       min_weight_fraction_leaf=0.0, n_estimators=250,\n",
       "                       n_jobs=None, oob_score=False, random_state=None,\n",
       "                       verbose=0, warm_start=False)"
      ]
     },
     "execution_count": 134,
     "metadata": {},
     "output_type": "execute_result"
    }
   ],
   "source": [
    "classifier.fit(stacked_X_train,y_train)"
   ]
  },
  {
   "cell_type": "code",
   "execution_count": 130,
   "metadata": {},
   "outputs": [],
   "source": [
    "x_test_text = vectorizer.transform(x_test['message'])\n",
    "stacked_X_test = hstack((x_test_text,\n",
    "                         np.array(x_test['sentiment_compound'].values.reshape(-1,1)),\n",
    "                         np.array(x_test['avg_word_len'].values.reshape(-1,1)),\n",
    "                         np.array(x_test['length'].values.reshape(-1,1)),\n",
    "                         np.array(x_test['tweetid'].values.reshape(-1,1)),\n",
    "                        ))\n",
    "\n",
    "y_pred = classifier.predict(stacked_X_test)"
   ]
  },
  {
   "cell_type": "code",
   "execution_count": 131,
   "metadata": {},
   "outputs": [
    {
     "name": "stdout",
     "output_type": "stream",
     "text": [
      "              precision    recall  f1-score   support\n",
      "\n",
      "          -1       0.92      0.18      0.31       704\n",
      "           0       0.65      0.33      0.44      1337\n",
      "           1       0.65      0.92      0.76      3994\n",
      "           2       0.80      0.59      0.68      1655\n",
      "\n",
      "    accuracy                           0.68      7690\n",
      "   macro avg       0.75      0.51      0.55      7690\n",
      "weighted avg       0.71      0.68      0.65      7690\n",
      "\n"
     ]
    }
   ],
   "source": [
    "from sklearn.metrics import classification_report\n",
    "\n",
    "print(classification_report(y_test,y_pred))"
   ]
  },
  {
   "cell_type": "code",
   "execution_count": null,
   "metadata": {},
   "outputs": [],
   "source": []
  }
 ],
 "metadata": {
  "kernelspec": {
   "display_name": "Python 3",
   "language": "python",
   "name": "python3"
  },
  "language_info": {
   "codemirror_mode": {
    "name": "ipython",
    "version": 3
   },
   "file_extension": ".py",
   "mimetype": "text/x-python",
   "name": "python",
   "nbconvert_exporter": "python",
   "pygments_lexer": "ipython3",
   "version": "3.7.6"
  }
 },
 "nbformat": 4,
 "nbformat_minor": 4
}
