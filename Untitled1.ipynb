{
 "cells": [
  {
   "cell_type": "code",
   "execution_count": 1,
   "metadata": {},
   "outputs": [],
   "source": [
    "import pandas as pd"
   ]
  },
  {
   "cell_type": "code",
   "execution_count": 2,
   "metadata": {},
   "outputs": [],
   "source": [
    "train_df = pd.read_csv('resources/data/train.csv')"
   ]
  },
  {
   "cell_type": "code",
   "execution_count": 3,
   "metadata": {},
   "outputs": [
    {
     "data": {
      "text/html": [
       "<div>\n",
       "<style scoped>\n",
       "    .dataframe tbody tr th:only-of-type {\n",
       "        vertical-align: middle;\n",
       "    }\n",
       "\n",
       "    .dataframe tbody tr th {\n",
       "        vertical-align: top;\n",
       "    }\n",
       "\n",
       "    .dataframe thead th {\n",
       "        text-align: right;\n",
       "    }\n",
       "</style>\n",
       "<table border=\"1\" class=\"dataframe\">\n",
       "  <thead>\n",
       "    <tr style=\"text-align: right;\">\n",
       "      <th></th>\n",
       "      <th>sentiment</th>\n",
       "      <th>message</th>\n",
       "      <th>tweetid</th>\n",
       "    </tr>\n",
       "  </thead>\n",
       "  <tbody>\n",
       "    <tr>\n",
       "      <th>0</th>\n",
       "      <td>-1</td>\n",
       "      <td>RT @darreljorstad: Funny as hell! Canada deman...</td>\n",
       "      <td>897853122080407553</td>\n",
       "    </tr>\n",
       "    <tr>\n",
       "      <th>1</th>\n",
       "      <td>-1</td>\n",
       "      <td>All the biggest lies about climate change and ...</td>\n",
       "      <td>925046776553529344</td>\n",
       "    </tr>\n",
       "    <tr>\n",
       "      <th>2</th>\n",
       "      <td>-1</td>\n",
       "      <td>The Coming Revelation Of The $q$Global Warming...</td>\n",
       "      <td>696354236850786305</td>\n",
       "    </tr>\n",
       "    <tr>\n",
       "      <th>3</th>\n",
       "      <td>-1</td>\n",
       "      <td>RT @DineshDSouza: Let's see if the world ends ...</td>\n",
       "      <td>846806509732483072</td>\n",
       "    </tr>\n",
       "    <tr>\n",
       "      <th>4</th>\n",
       "      <td>-1</td>\n",
       "      <td>RT @SteveSGoddard: Obama has no control over t...</td>\n",
       "      <td>628085266293653504</td>\n",
       "    </tr>\n",
       "    <tr>\n",
       "      <th>...</th>\n",
       "      <td>...</td>\n",
       "      <td>...</td>\n",
       "      <td>...</td>\n",
       "    </tr>\n",
       "    <tr>\n",
       "      <th>30754</th>\n",
       "      <td>2</td>\n",
       "      <td>RT @TIME: The Pentagon warned that climate cha...</td>\n",
       "      <td>958155326259367937</td>\n",
       "    </tr>\n",
       "    <tr>\n",
       "      <th>30755</th>\n",
       "      <td>2</td>\n",
       "      <td>Study finds that global warming exacerbates re...</td>\n",
       "      <td>956048238615900163</td>\n",
       "    </tr>\n",
       "    <tr>\n",
       "      <th>30756</th>\n",
       "      <td>2</td>\n",
       "      <td>RT @MikeySlezak: The global green movement pre...</td>\n",
       "      <td>800258621485391872</td>\n",
       "    </tr>\n",
       "    <tr>\n",
       "      <th>30757</th>\n",
       "      <td>2</td>\n",
       "      <td>RT @ProfEdwardsNZ: NYC Mayor says NY will go f...</td>\n",
       "      <td>871365767895404545</td>\n",
       "    </tr>\n",
       "    <tr>\n",
       "      <th>30758</th>\n",
       "      <td>2</td>\n",
       "      <td>RT Sanders: Climate Change Causes Terrorism  h...</td>\n",
       "      <td>666236638155141121</td>\n",
       "    </tr>\n",
       "  </tbody>\n",
       "</table>\n",
       "<p>30759 rows × 3 columns</p>\n",
       "</div>"
      ],
      "text/plain": [
       "       sentiment                                            message  \\\n",
       "0             -1  RT @darreljorstad: Funny as hell! Canada deman...   \n",
       "1             -1  All the biggest lies about climate change and ...   \n",
       "2             -1  The Coming Revelation Of The $q$Global Warming...   \n",
       "3             -1  RT @DineshDSouza: Let's see if the world ends ...   \n",
       "4             -1  RT @SteveSGoddard: Obama has no control over t...   \n",
       "...          ...                                                ...   \n",
       "30754          2  RT @TIME: The Pentagon warned that climate cha...   \n",
       "30755          2  Study finds that global warming exacerbates re...   \n",
       "30756          2  RT @MikeySlezak: The global green movement pre...   \n",
       "30757          2  RT @ProfEdwardsNZ: NYC Mayor says NY will go f...   \n",
       "30758          2  RT Sanders: Climate Change Causes Terrorism  h...   \n",
       "\n",
       "                  tweetid  \n",
       "0      897853122080407553  \n",
       "1      925046776553529344  \n",
       "2      696354236850786305  \n",
       "3      846806509732483072  \n",
       "4      628085266293653504  \n",
       "...                   ...  \n",
       "30754  958155326259367937  \n",
       "30755  956048238615900163  \n",
       "30756  800258621485391872  \n",
       "30757  871365767895404545  \n",
       "30758  666236638155141121  \n",
       "\n",
       "[30759 rows x 3 columns]"
      ]
     },
     "execution_count": 3,
     "metadata": {},
     "output_type": "execute_result"
    }
   ],
   "source": [
    "train_df"
   ]
  },
  {
   "cell_type": "code",
   "execution_count": 4,
   "metadata": {},
   "outputs": [],
   "source": [
    "from preprocess import preprocess"
   ]
  },
  {
   "cell_type": "code",
   "execution_count": 5,
   "metadata": {},
   "outputs": [
    {
     "data": {
      "text/plain": [
       "<30759x76158 sparse matrix of type '<class 'numpy.float64'>'\n",
       "\twith 692944 stored elements in COOrdinate format>"
      ]
     },
     "execution_count": 5,
     "metadata": {},
     "output_type": "execute_result"
    }
   ],
   "source": [
    "preprocess(train_df)"
   ]
  },
  {
   "cell_type": "code",
   "execution_count": null,
   "metadata": {},
   "outputs": [],
   "source": []
  }
 ],
 "metadata": {
  "kernelspec": {
   "display_name": "Python 3",
   "language": "python",
   "name": "python3"
  },
  "language_info": {
   "codemirror_mode": {
    "name": "ipython",
    "version": 3
   },
   "file_extension": ".py",
   "mimetype": "text/x-python",
   "name": "python",
   "nbconvert_exporter": "python",
   "pygments_lexer": "ipython3",
   "version": "3.7.6"
  }
 },
 "nbformat": 4,
 "nbformat_minor": 4
}
